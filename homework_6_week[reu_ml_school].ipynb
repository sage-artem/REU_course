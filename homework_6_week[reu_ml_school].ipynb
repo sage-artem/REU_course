{
  "nbformat": 4,
  "nbformat_minor": 0,
  "metadata": {
    "colab": {
      "provenance": [],
      "include_colab_link": true
    },
    "kernelspec": {
      "name": "python3",
      "display_name": "Python 3"
    },
    "language_info": {
      "name": "python"
    }
  },
  "cells": [
    {
      "cell_type": "markdown",
      "metadata": {
        "id": "view-in-github",
        "colab_type": "text"
      },
      "source": [
        "<a href=\"https://colab.research.google.com/github/sage-artem/REU_course/blob/main/homework_6_week%5Breu_ml_school%5D.ipynb\" target=\"_parent\"><img src=\"https://colab.research.google.com/assets/colab-badge.svg\" alt=\"Open In Colab\"/></a>"
      ]
    },
    {
      "cell_type": "markdown",
      "source": [
        "# <center>**ML School by REU Data Scinece Club**</center>\n",
        "\n",
        "----\n",
        "## <center> Неделя №6 </center>"
      ],
      "metadata": {
        "id": "zApcW1CsZyao"
      }
    },
    {
      "cell_type": "markdown",
      "source": [
        "На этой неделе вам предстоит написать Дерево рещений своими руками и оптимизировать его."
      ],
      "metadata": {
        "id": "Sdlo2SPRZ4u5"
      }
    },
    {
      "cell_type": "markdown",
      "source": [
        "Импортируем библиотеки которые нам нужны"
      ],
      "metadata": {
        "id": "pfEbB17kaJbj"
      }
    },
    {
      "cell_type": "code",
      "source": [
        "import numpy as np\n",
        "import pandas as pd\n",
        "\n",
        "from sklearn.metrics import f1_score\n",
        "from sklearn.model_selection import train_test_split\n",
        "from sklearn.ensemble import RandomForestClassifier\n",
        "from sklearn.model_selection import GridSearchCV"
      ],
      "metadata": {
        "id": "ef9MesksZyLw"
      },
      "execution_count": null,
      "outputs": []
    },
    {
      "cell_type": "markdown",
      "source": [
        "Импортируем нужные данные, в этот раз мы будем пытаться предсказать ценовой диапазон цены на телефон. Данные уже обработаны"
      ],
      "metadata": {
        "id": "-L9grpivbnfr"
      }
    },
    {
      "cell_type": "code",
      "source": [
        "!git clone https://github.com/MeinRespect/REU-Ml-SCHOOL.git"
      ],
      "metadata": {
        "id": "Nx7Ow1F9TaaX",
        "colab": {
          "base_uri": "https://localhost:8080/"
        },
        "outputId": "6b973824-a3c1-452c-f818-b6a5dffe231b"
      },
      "execution_count": null,
      "outputs": [
        {
          "output_type": "stream",
          "name": "stdout",
          "text": [
            "Cloning into 'REU-Ml-SCHOOL'...\n",
            "remote: Enumerating objects: 13, done.\u001b[K\n",
            "remote: Counting objects: 100% (13/13), done.\u001b[K\n",
            "remote: Compressing objects: 100% (12/12), done.\u001b[K\n",
            "remote: Total 13 (delta 2), reused 0 (delta 0), pack-reused 0\u001b[K\n",
            "Unpacking objects: 100% (13/13), 1.16 MiB | 3.02 MiB/s, done.\n"
          ]
        }
      ]
    },
    {
      "cell_type": "code",
      "source": [
        "df = pd.read_csv('/content/REU-Ml-SCHOOL/mobile_price_prediction.csv')\n",
        "df"
      ],
      "metadata": {
        "colab": {
          "base_uri": "https://localhost:8080/",
          "height": 487
        },
        "id": "8E3mFWfzaUWM",
        "outputId": "5d16de18-1d2d-42f0-f424-ae2c77a47b67"
      },
      "execution_count": null,
      "outputs": [
        {
          "output_type": "execute_result",
          "data": {
            "text/plain": [
              "      battery_power  blue  clock_speed  dual_sim  fc  four_g  int_memory  \\\n",
              "0               842     0          2.2         0   1       0           7   \n",
              "1              1021     1          0.5         1   0       1          53   \n",
              "2               563     1          0.5         1   2       1          41   \n",
              "3               615     1          2.5         0   0       0          10   \n",
              "4              1821     1          1.2         0  13       1          44   \n",
              "...             ...   ...          ...       ...  ..     ...         ...   \n",
              "1995            794     1          0.5         1   0       1           2   \n",
              "1996           1965     1          2.6         1   0       0          39   \n",
              "1997           1911     0          0.9         1   1       1          36   \n",
              "1998           1512     0          0.9         0   4       1          46   \n",
              "1999            510     1          2.0         1   5       1          45   \n",
              "\n",
              "      m_dep  mobile_wt  n_cores  ...  px_height  px_width   ram  sc_h  sc_w  \\\n",
              "0       0.6        188        2  ...         20       756  2549     9     7   \n",
              "1       0.7        136        3  ...        905      1988  2631    17     3   \n",
              "2       0.9        145        5  ...       1263      1716  2603    11     2   \n",
              "3       0.8        131        6  ...       1216      1786  2769    16     8   \n",
              "4       0.6        141        2  ...       1208      1212  1411     8     2   \n",
              "...     ...        ...      ...  ...        ...       ...   ...   ...   ...   \n",
              "1995    0.8        106        6  ...       1222      1890   668    13     4   \n",
              "1996    0.2        187        4  ...        915      1965  2032    11    10   \n",
              "1997    0.7        108        8  ...        868      1632  3057     9     1   \n",
              "1998    0.1        145        5  ...        336       670   869    18    10   \n",
              "1999    0.9        168        6  ...        483       754  3919    19     4   \n",
              "\n",
              "      talk_time  three_g  touch_screen  wifi  price_range  \n",
              "0            19        0             0     1            1  \n",
              "1             7        1             1     0            2  \n",
              "2             9        1             1     0            2  \n",
              "3            11        1             0     0            2  \n",
              "4            15        1             1     0            1  \n",
              "...         ...      ...           ...   ...          ...  \n",
              "1995         19        1             1     0            0  \n",
              "1996         16        1             1     1            2  \n",
              "1997          5        1             1     0            3  \n",
              "1998         19        1             1     1            0  \n",
              "1999          2        1             1     1            3  \n",
              "\n",
              "[2000 rows x 21 columns]"
            ],
            "text/html": [
              "\n",
              "  <div id=\"df-5723cf93-d4bd-44e5-b908-18e34f513980\">\n",
              "    <div class=\"colab-df-container\">\n",
              "      <div>\n",
              "<style scoped>\n",
              "    .dataframe tbody tr th:only-of-type {\n",
              "        vertical-align: middle;\n",
              "    }\n",
              "\n",
              "    .dataframe tbody tr th {\n",
              "        vertical-align: top;\n",
              "    }\n",
              "\n",
              "    .dataframe thead th {\n",
              "        text-align: right;\n",
              "    }\n",
              "</style>\n",
              "<table border=\"1\" class=\"dataframe\">\n",
              "  <thead>\n",
              "    <tr style=\"text-align: right;\">\n",
              "      <th></th>\n",
              "      <th>battery_power</th>\n",
              "      <th>blue</th>\n",
              "      <th>clock_speed</th>\n",
              "      <th>dual_sim</th>\n",
              "      <th>fc</th>\n",
              "      <th>four_g</th>\n",
              "      <th>int_memory</th>\n",
              "      <th>m_dep</th>\n",
              "      <th>mobile_wt</th>\n",
              "      <th>n_cores</th>\n",
              "      <th>...</th>\n",
              "      <th>px_height</th>\n",
              "      <th>px_width</th>\n",
              "      <th>ram</th>\n",
              "      <th>sc_h</th>\n",
              "      <th>sc_w</th>\n",
              "      <th>talk_time</th>\n",
              "      <th>three_g</th>\n",
              "      <th>touch_screen</th>\n",
              "      <th>wifi</th>\n",
              "      <th>price_range</th>\n",
              "    </tr>\n",
              "  </thead>\n",
              "  <tbody>\n",
              "    <tr>\n",
              "      <th>0</th>\n",
              "      <td>842</td>\n",
              "      <td>0</td>\n",
              "      <td>2.2</td>\n",
              "      <td>0</td>\n",
              "      <td>1</td>\n",
              "      <td>0</td>\n",
              "      <td>7</td>\n",
              "      <td>0.6</td>\n",
              "      <td>188</td>\n",
              "      <td>2</td>\n",
              "      <td>...</td>\n",
              "      <td>20</td>\n",
              "      <td>756</td>\n",
              "      <td>2549</td>\n",
              "      <td>9</td>\n",
              "      <td>7</td>\n",
              "      <td>19</td>\n",
              "      <td>0</td>\n",
              "      <td>0</td>\n",
              "      <td>1</td>\n",
              "      <td>1</td>\n",
              "    </tr>\n",
              "    <tr>\n",
              "      <th>1</th>\n",
              "      <td>1021</td>\n",
              "      <td>1</td>\n",
              "      <td>0.5</td>\n",
              "      <td>1</td>\n",
              "      <td>0</td>\n",
              "      <td>1</td>\n",
              "      <td>53</td>\n",
              "      <td>0.7</td>\n",
              "      <td>136</td>\n",
              "      <td>3</td>\n",
              "      <td>...</td>\n",
              "      <td>905</td>\n",
              "      <td>1988</td>\n",
              "      <td>2631</td>\n",
              "      <td>17</td>\n",
              "      <td>3</td>\n",
              "      <td>7</td>\n",
              "      <td>1</td>\n",
              "      <td>1</td>\n",
              "      <td>0</td>\n",
              "      <td>2</td>\n",
              "    </tr>\n",
              "    <tr>\n",
              "      <th>2</th>\n",
              "      <td>563</td>\n",
              "      <td>1</td>\n",
              "      <td>0.5</td>\n",
              "      <td>1</td>\n",
              "      <td>2</td>\n",
              "      <td>1</td>\n",
              "      <td>41</td>\n",
              "      <td>0.9</td>\n",
              "      <td>145</td>\n",
              "      <td>5</td>\n",
              "      <td>...</td>\n",
              "      <td>1263</td>\n",
              "      <td>1716</td>\n",
              "      <td>2603</td>\n",
              "      <td>11</td>\n",
              "      <td>2</td>\n",
              "      <td>9</td>\n",
              "      <td>1</td>\n",
              "      <td>1</td>\n",
              "      <td>0</td>\n",
              "      <td>2</td>\n",
              "    </tr>\n",
              "    <tr>\n",
              "      <th>3</th>\n",
              "      <td>615</td>\n",
              "      <td>1</td>\n",
              "      <td>2.5</td>\n",
              "      <td>0</td>\n",
              "      <td>0</td>\n",
              "      <td>0</td>\n",
              "      <td>10</td>\n",
              "      <td>0.8</td>\n",
              "      <td>131</td>\n",
              "      <td>6</td>\n",
              "      <td>...</td>\n",
              "      <td>1216</td>\n",
              "      <td>1786</td>\n",
              "      <td>2769</td>\n",
              "      <td>16</td>\n",
              "      <td>8</td>\n",
              "      <td>11</td>\n",
              "      <td>1</td>\n",
              "      <td>0</td>\n",
              "      <td>0</td>\n",
              "      <td>2</td>\n",
              "    </tr>\n",
              "    <tr>\n",
              "      <th>4</th>\n",
              "      <td>1821</td>\n",
              "      <td>1</td>\n",
              "      <td>1.2</td>\n",
              "      <td>0</td>\n",
              "      <td>13</td>\n",
              "      <td>1</td>\n",
              "      <td>44</td>\n",
              "      <td>0.6</td>\n",
              "      <td>141</td>\n",
              "      <td>2</td>\n",
              "      <td>...</td>\n",
              "      <td>1208</td>\n",
              "      <td>1212</td>\n",
              "      <td>1411</td>\n",
              "      <td>8</td>\n",
              "      <td>2</td>\n",
              "      <td>15</td>\n",
              "      <td>1</td>\n",
              "      <td>1</td>\n",
              "      <td>0</td>\n",
              "      <td>1</td>\n",
              "    </tr>\n",
              "    <tr>\n",
              "      <th>...</th>\n",
              "      <td>...</td>\n",
              "      <td>...</td>\n",
              "      <td>...</td>\n",
              "      <td>...</td>\n",
              "      <td>...</td>\n",
              "      <td>...</td>\n",
              "      <td>...</td>\n",
              "      <td>...</td>\n",
              "      <td>...</td>\n",
              "      <td>...</td>\n",
              "      <td>...</td>\n",
              "      <td>...</td>\n",
              "      <td>...</td>\n",
              "      <td>...</td>\n",
              "      <td>...</td>\n",
              "      <td>...</td>\n",
              "      <td>...</td>\n",
              "      <td>...</td>\n",
              "      <td>...</td>\n",
              "      <td>...</td>\n",
              "      <td>...</td>\n",
              "    </tr>\n",
              "    <tr>\n",
              "      <th>1995</th>\n",
              "      <td>794</td>\n",
              "      <td>1</td>\n",
              "      <td>0.5</td>\n",
              "      <td>1</td>\n",
              "      <td>0</td>\n",
              "      <td>1</td>\n",
              "      <td>2</td>\n",
              "      <td>0.8</td>\n",
              "      <td>106</td>\n",
              "      <td>6</td>\n",
              "      <td>...</td>\n",
              "      <td>1222</td>\n",
              "      <td>1890</td>\n",
              "      <td>668</td>\n",
              "      <td>13</td>\n",
              "      <td>4</td>\n",
              "      <td>19</td>\n",
              "      <td>1</td>\n",
              "      <td>1</td>\n",
              "      <td>0</td>\n",
              "      <td>0</td>\n",
              "    </tr>\n",
              "    <tr>\n",
              "      <th>1996</th>\n",
              "      <td>1965</td>\n",
              "      <td>1</td>\n",
              "      <td>2.6</td>\n",
              "      <td>1</td>\n",
              "      <td>0</td>\n",
              "      <td>0</td>\n",
              "      <td>39</td>\n",
              "      <td>0.2</td>\n",
              "      <td>187</td>\n",
              "      <td>4</td>\n",
              "      <td>...</td>\n",
              "      <td>915</td>\n",
              "      <td>1965</td>\n",
              "      <td>2032</td>\n",
              "      <td>11</td>\n",
              "      <td>10</td>\n",
              "      <td>16</td>\n",
              "      <td>1</td>\n",
              "      <td>1</td>\n",
              "      <td>1</td>\n",
              "      <td>2</td>\n",
              "    </tr>\n",
              "    <tr>\n",
              "      <th>1997</th>\n",
              "      <td>1911</td>\n",
              "      <td>0</td>\n",
              "      <td>0.9</td>\n",
              "      <td>1</td>\n",
              "      <td>1</td>\n",
              "      <td>1</td>\n",
              "      <td>36</td>\n",
              "      <td>0.7</td>\n",
              "      <td>108</td>\n",
              "      <td>8</td>\n",
              "      <td>...</td>\n",
              "      <td>868</td>\n",
              "      <td>1632</td>\n",
              "      <td>3057</td>\n",
              "      <td>9</td>\n",
              "      <td>1</td>\n",
              "      <td>5</td>\n",
              "      <td>1</td>\n",
              "      <td>1</td>\n",
              "      <td>0</td>\n",
              "      <td>3</td>\n",
              "    </tr>\n",
              "    <tr>\n",
              "      <th>1998</th>\n",
              "      <td>1512</td>\n",
              "      <td>0</td>\n",
              "      <td>0.9</td>\n",
              "      <td>0</td>\n",
              "      <td>4</td>\n",
              "      <td>1</td>\n",
              "      <td>46</td>\n",
              "      <td>0.1</td>\n",
              "      <td>145</td>\n",
              "      <td>5</td>\n",
              "      <td>...</td>\n",
              "      <td>336</td>\n",
              "      <td>670</td>\n",
              "      <td>869</td>\n",
              "      <td>18</td>\n",
              "      <td>10</td>\n",
              "      <td>19</td>\n",
              "      <td>1</td>\n",
              "      <td>1</td>\n",
              "      <td>1</td>\n",
              "      <td>0</td>\n",
              "    </tr>\n",
              "    <tr>\n",
              "      <th>1999</th>\n",
              "      <td>510</td>\n",
              "      <td>1</td>\n",
              "      <td>2.0</td>\n",
              "      <td>1</td>\n",
              "      <td>5</td>\n",
              "      <td>1</td>\n",
              "      <td>45</td>\n",
              "      <td>0.9</td>\n",
              "      <td>168</td>\n",
              "      <td>6</td>\n",
              "      <td>...</td>\n",
              "      <td>483</td>\n",
              "      <td>754</td>\n",
              "      <td>3919</td>\n",
              "      <td>19</td>\n",
              "      <td>4</td>\n",
              "      <td>2</td>\n",
              "      <td>1</td>\n",
              "      <td>1</td>\n",
              "      <td>1</td>\n",
              "      <td>3</td>\n",
              "    </tr>\n",
              "  </tbody>\n",
              "</table>\n",
              "<p>2000 rows × 21 columns</p>\n",
              "</div>\n",
              "      <button class=\"colab-df-convert\" onclick=\"convertToInteractive('df-5723cf93-d4bd-44e5-b908-18e34f513980')\"\n",
              "              title=\"Convert this dataframe to an interactive table.\"\n",
              "              style=\"display:none;\">\n",
              "        \n",
              "  <svg xmlns=\"http://www.w3.org/2000/svg\" height=\"24px\"viewBox=\"0 0 24 24\"\n",
              "       width=\"24px\">\n",
              "    <path d=\"M0 0h24v24H0V0z\" fill=\"none\"/>\n",
              "    <path d=\"M18.56 5.44l.94 2.06.94-2.06 2.06-.94-2.06-.94-.94-2.06-.94 2.06-2.06.94zm-11 1L8.5 8.5l.94-2.06 2.06-.94-2.06-.94L8.5 2.5l-.94 2.06-2.06.94zm10 10l.94 2.06.94-2.06 2.06-.94-2.06-.94-.94-2.06-.94 2.06-2.06.94z\"/><path d=\"M17.41 7.96l-1.37-1.37c-.4-.4-.92-.59-1.43-.59-.52 0-1.04.2-1.43.59L10.3 9.45l-7.72 7.72c-.78.78-.78 2.05 0 2.83L4 21.41c.39.39.9.59 1.41.59.51 0 1.02-.2 1.41-.59l7.78-7.78 2.81-2.81c.8-.78.8-2.07 0-2.86zM5.41 20L4 18.59l7.72-7.72 1.47 1.35L5.41 20z\"/>\n",
              "  </svg>\n",
              "      </button>\n",
              "      \n",
              "  <style>\n",
              "    .colab-df-container {\n",
              "      display:flex;\n",
              "      flex-wrap:wrap;\n",
              "      gap: 12px;\n",
              "    }\n",
              "\n",
              "    .colab-df-convert {\n",
              "      background-color: #E8F0FE;\n",
              "      border: none;\n",
              "      border-radius: 50%;\n",
              "      cursor: pointer;\n",
              "      display: none;\n",
              "      fill: #1967D2;\n",
              "      height: 32px;\n",
              "      padding: 0 0 0 0;\n",
              "      width: 32px;\n",
              "    }\n",
              "\n",
              "    .colab-df-convert:hover {\n",
              "      background-color: #E2EBFA;\n",
              "      box-shadow: 0px 1px 2px rgba(60, 64, 67, 0.3), 0px 1px 3px 1px rgba(60, 64, 67, 0.15);\n",
              "      fill: #174EA6;\n",
              "    }\n",
              "\n",
              "    [theme=dark] .colab-df-convert {\n",
              "      background-color: #3B4455;\n",
              "      fill: #D2E3FC;\n",
              "    }\n",
              "\n",
              "    [theme=dark] .colab-df-convert:hover {\n",
              "      background-color: #434B5C;\n",
              "      box-shadow: 0px 1px 3px 1px rgba(0, 0, 0, 0.15);\n",
              "      filter: drop-shadow(0px 1px 2px rgba(0, 0, 0, 0.3));\n",
              "      fill: #FFFFFF;\n",
              "    }\n",
              "  </style>\n",
              "\n",
              "      <script>\n",
              "        const buttonEl =\n",
              "          document.querySelector('#df-5723cf93-d4bd-44e5-b908-18e34f513980 button.colab-df-convert');\n",
              "        buttonEl.style.display =\n",
              "          google.colab.kernel.accessAllowed ? 'block' : 'none';\n",
              "\n",
              "        async function convertToInteractive(key) {\n",
              "          const element = document.querySelector('#df-5723cf93-d4bd-44e5-b908-18e34f513980');\n",
              "          const dataTable =\n",
              "            await google.colab.kernel.invokeFunction('convertToInteractive',\n",
              "                                                     [key], {});\n",
              "          if (!dataTable) return;\n",
              "\n",
              "          const docLinkHtml = 'Like what you see? Visit the ' +\n",
              "            '<a target=\"_blank\" href=https://colab.research.google.com/notebooks/data_table.ipynb>data table notebook</a>'\n",
              "            + ' to learn more about interactive tables.';\n",
              "          element.innerHTML = '';\n",
              "          dataTable['output_type'] = 'display_data';\n",
              "          await google.colab.output.renderOutput(dataTable, element);\n",
              "          const docLink = document.createElement('div');\n",
              "          docLink.innerHTML = docLinkHtml;\n",
              "          element.appendChild(docLink);\n",
              "        }\n",
              "      </script>\n",
              "    </div>\n",
              "  </div>\n",
              "  "
            ]
          },
          "metadata": {},
          "execution_count": 3
        }
      ]
    },
    {
      "cell_type": "markdown",
      "source": [
        "Как мы видим у нас есть 4 класса, разделите данные на train и test. test_size = 0.25 и random_state = 1"
      ],
      "metadata": {
        "id": "9PAio89YcU82"
      }
    },
    {
      "cell_type": "code",
      "source": [
        "# Ваш код тут\n",
        "X, y = df.drop('price_range', axis=1), df['price_range']\n",
        "X_train, X_test, y_train, y_test = train_test_split(X.to_numpy(), y.to_numpy(), test_size=0.25, random_state=1)"
      ],
      "metadata": {
        "id": "83k8LeU7cM3s"
      },
      "execution_count": null,
      "outputs": []
    },
    {
      "cell_type": "markdown",
      "source": [
        "# **Задание 1. Функции для оптимизации (2 балла)**"
      ],
      "metadata": {
        "id": "UghHW63sdkTb"
      }
    },
    {
      "cell_type": "markdown",
      "source": [
        "Для начала реализуем критерий Gini по которому мы будем оптимизировать наше дерево. Чем данный критерий меньше, тем лучше новое разделение разделяет данные. На вход нашей функции будет подаваться массив с значениями y. Например [0, 1, 3, 2, 1, 0, 0,0 ]"
      ],
      "metadata": {
        "id": "ERb0E5SHqHYU"
      }
    },
    {
      "cell_type": "markdown",
      "source": [
        "$$ Gini = 1 - {\\sum_j}p_j^2 $$"
      ],
      "metadata": {
        "id": "Nr9_HD5Ytxhv"
      }
    },
    {
      "cell_type": "code",
      "source": [
        "def gini(labels):\n",
        "\n",
        "    # Ваш код тут\n",
        "    labels = np.array(labels)\n",
        "    sum1 = 0\n",
        "    for label in np.unique(labels):\n",
        "        sum1 += np.square(np.sum([labels==label]) / len(labels))\n",
        "    gini = 1 - sum1\n",
        "    return gini"
      ],
      "metadata": {
        "id": "kynIdqIxd0Or"
      },
      "execution_count": null,
      "outputs": []
    },
    {
      "cell_type": "markdown",
      "source": [
        "Проверьте правильно ли работает ваша функция. Если вы запустили код ниже и он отработал без ошибок, то значит все хорошо"
      ],
      "metadata": {
        "id": "Z1271cXHW_lX"
      }
    },
    {
      "cell_type": "code",
      "source": [
        "test_cases = [\n",
        "    ([0, 0, 0, 0, 0], 0.0),\n",
        "    ([0, 1, 1, 1, 0], 0.48),\n",
        "    ([0, 1, 2, 3, 5, 5, 2], 0.7755102040816326)\n",
        "]\n",
        "\n",
        "# Test the gini function against the test cases\n",
        "for x, expected in test_cases:\n",
        "    result = gini(x)\n",
        "    if result == expected:\n",
        "        print(f\"Test case PASSED: gini({x}) = {result}\")\n",
        "    else:\n",
        "        raise ValueError(f\"Test case FAILED: gini({x}) = {result}, expected {expected}\")\n"
      ],
      "metadata": {
        "id": "NLS9LMBAu8rt",
        "colab": {
          "base_uri": "https://localhost:8080/"
        },
        "outputId": "c186fcf6-9a66-483f-9bc6-d1e947411036"
      },
      "execution_count": null,
      "outputs": [
        {
          "output_type": "stream",
          "name": "stdout",
          "text": [
            "Test case PASSED: gini([0, 0, 0, 0, 0]) = 0.0\n",
            "Test case PASSED: gini([0, 1, 1, 1, 0]) = 0.48\n",
            "Test case PASSED: gini([0, 1, 2, 3, 5, 5, 2]) = 0.7755102040816326\n"
          ]
        }
      ]
    },
    {
      "cell_type": "markdown",
      "source": [
        "# **Задание 2. Дерево решений (13 баллов)**"
      ],
      "metadata": {
        "id": "X5XpQ7WLzUyj"
      }
    },
    {
      "cell_type": "markdown",
      "source": [
        "Теперь напишем сам алгоритм, в нем обязательно нужно настроить возможность ограничения дерева по глубине. Алгоритм обучения вы можете написать в удобном вам виде, главное чтобы он работал"
      ],
      "metadata": {
        "id": "mp5WvOuszpRn"
      }
    },
    {
      "cell_type": "code",
      "source": [
        "class DecisionTree:\n",
        "    def __init__(self, max_depth=5, min_samples_split=2):\n",
        "        self.max_depth = max_depth   # задаем максимальную глубину\n",
        "        self.min_samples_split = min_samples_split # миниальное число наблюдений для разбиения\n",
        "\n",
        "    def fit(self, X, y):\n",
        "        self.n_classes_ = len(np.unique(y)) # количество классов\n",
        "        self.tree_ = self._plant_tree(X, y) # строим дерево\n",
        "\n",
        "    def predict(self, X):\n",
        "        return [self._predict(inputs) for inputs in X]\n",
        "\n",
        "\n",
        "    # Функция которая поможет найти лучший признак для разбиения в наших данных\n",
        "    def _best_split(self, X, y):\n",
        "\n",
        "        num_of_y = y.size # Сразу проверим что у нас больше чем одно наблюдение\n",
        "        if num_of_y <= 1:\n",
        "            return None, None\n",
        "\n",
        "        # Создадим list, где у нас будет указано количество каждого класса\n",
        "        num_of_each_class = [np.sum(y == c) for c in range(self.n_classes_)]\n",
        "\n",
        "        # Ваш код тут, вам нужно:\n",
        "        # 1) Вернуть индекс колонки где лучше всего разбить данные\n",
        "        # 2) Найти в этой колоники лучшее значения для разбиения и вернуть их\n",
        "        # Также учитывайте, что если после рзабиения в одном из листьев у вас меньше\n",
        "        # чем min_samples_split, вам не подходит такое разбиение\n",
        "\n",
        "        mss = self.min_samples_split\n",
        "\n",
        "        Q_max = -100000\n",
        "        best_idx = -1\n",
        "        best_thr = 1\n",
        "        for idx in range(X.shape[1]):\n",
        "            values = np.sort(np.unique(X[:,idx].flatten())) #заносим в список все значения соотвествующего признака и сортируем по возрастанию\n",
        "            for j in range(len(values) - 1):\n",
        "                thr = (values[j] + values[j + 1]) / 2 #берем все возможные пороги, доступные в данном признаке\n",
        "                mask = X[:, idx] >= thr\n",
        "                right_head = X[mask], y[mask]\n",
        "                left_head = X[~mask], y[~mask]\n",
        "                r_samples, l_samples = len(right_head[0]), len(left_head[0])\n",
        "                Q = gini(y) - (l_samples * gini(left_head[1]) + \\\n",
        "                            r_samples * gini(right_head[1])) / len(X) # считаю информативность разбиения по формуле из лекции\n",
        "                if Q > Q_max and  r_samples >= mss and l_samples >= mss:\n",
        "                    Q_max = Q\n",
        "                    best_idx = idx\n",
        "                    best_thr = thr\n",
        "                    lft, rght = left_head, right_head\n",
        "\n",
        "        # Важный момент, при подсчете gini после рзабиения, нужно подсчитать его как для\n",
        "        # правого листа, так и для левого, а затем расччитать общий gini.\n",
        "        # gini = (i * gini_left + (m - i) * gini_right) / m\n",
        "        # i - количество наблюдений в левом листе, m - в правом\n",
        "\n",
        "       # print(best_idx, best_thr, Q, len(lft[0]), len(rght[0])) вспомогательная строчка\n",
        "        return best_idx, best_thr, lft, rght\n",
        "\n",
        "    def _plant_tree(self, X, y, depth=0):\n",
        "\n",
        "        # Для начала мы предскажем класс, взяв максимальное тот, который чаще всего встречается в данных\n",
        "        num_samples_per_class = [np.sum(y == i) for i in range(self.n_classes_)]\n",
        "        predicted_class = np.argmax(num_samples_per_class)\n",
        "\n",
        "        # Тут нам будет помогать другой класс Node, по-другому лист.\n",
        "        # Мы будем использовать его для сохранения информации о разбиении\n",
        "        node = Node(predicted_class=predicted_class)\n",
        "\n",
        "        if depth < self.max_depth and len(X) > 2*self.min_samples_split:\n",
        "            idx, thr, lft, rght = self._best_split(X, y)\n",
        "            if idx is not None:\n",
        "\n",
        "                # Ваш код тут. Создайте переменные с значениями X и y которые отправлись в правый лист.\n",
        "                # создайте также переменные с значениями, которые отправились в левый лист\n",
        "                # Другими словами просто разделите данные на две части по вашему best_split\n",
        "\n",
        "                node.feature_index = idx\n",
        "                node.threshold = thr\n",
        "                node.left = self._plant_tree(lft[0], lft[1], depth + 1) # вызовите plant_tree и передайте туда ваши переменные в левой части, к глубине прибавьте +1\n",
        "                node.right = self._plant_tree(rght[0], rght[1], depth + 1) # вызовите plant_tree и передайте туда ваши переменные в правой части, к глубине прибавьте +1\n",
        "\n",
        "        return node\n",
        "\n",
        "    def _predict(self, inputs):\n",
        "        node = self.tree_\n",
        "        while node.left:\n",
        "            if inputs[node.feature_index] < node.threshold:\n",
        "                node = node.left\n",
        "            else:\n",
        "                node = node.right\n",
        "        return node.predicted_class\n",
        "\n",
        "class Node:\n",
        "    def __init__(self, *, predicted_class):\n",
        "        self.predicted_class = predicted_class\n",
        "        self.feature_index = 0\n",
        "        self.threshold = 0\n",
        "        self.left = None\n",
        "        self.right = None\n"
      ],
      "metadata": {
        "id": "DyATavabzc0r"
      },
      "execution_count": null,
      "outputs": []
    },
    {
      "cell_type": "markdown",
      "source": [
        "Теперь протестируйте свое дерево и покажите результат f1_score(укажите в нем average = 'marco') для 2 видов глубины, на свое усмотрение"
      ],
      "metadata": {
        "id": "R23-cPDiWiyX"
      }
    },
    {
      "cell_type": "code",
      "source": [
        "# Ваш код сдесь\n",
        "model = DecisionTree(max_depth=10)\n",
        "_ = model.fit(X_train, y_train)\n",
        "y_pred = model.predict(X_test)\n",
        "f1_score(y_test, y_pred, average='macro')"
      ],
      "metadata": {
        "id": "LzyQrOVtWqxC",
        "colab": {
          "base_uri": "https://localhost:8080/"
        },
        "outputId": "3a0856b3-17ac-463d-8251-f4029620b8ab"
      },
      "execution_count": null,
      "outputs": [
        {
          "output_type": "execute_result",
          "data": {
            "text/plain": [
              "0.8454537156851352"
            ]
          },
          "metadata": {},
          "execution_count": 49
        }
      ]
    },
    {
      "cell_type": "code",
      "source": [
        "model = DecisionTree(max_depth=5)\n",
        "_ = model.fit(X_train, y_train)\n",
        "y_pred = model.predict(X_test)\n",
        "f1_score(y_test, y_pred, average='macro')"
      ],
      "metadata": {
        "colab": {
          "base_uri": "https://localhost:8080/"
        },
        "id": "MxEPkCAwjl9t",
        "outputId": "0d13da30-bd94-467a-bd52-00f910081670"
      },
      "execution_count": null,
      "outputs": [
        {
          "output_type": "execute_result",
          "data": {
            "text/plain": [
              "0.8263017195741216"
            ]
          },
          "metadata": {},
          "execution_count": 50
        }
      ]
    },
    {
      "cell_type": "markdown",
      "source": [
        "# **Задание 3. Деревья в Sklearn (5 баллов)**"
      ],
      "metadata": {
        "id": "cOPYD2NQXXko"
      }
    },
    {
      "cell_type": "markdown",
      "source": [
        "Напишите поиск параметров(их должно быть минимум 4) с помощью GridSearchCV дл RandomForestClassifier. Он может долго перебирать параметры, это нормально. Оцените результат с помощью f1_score, укажите в нем average = 'marco'"
      ],
      "metadata": {
        "id": "fo2JsaRUaaHz"
      }
    },
    {
      "cell_type": "code",
      "source": [
        "# Ваш код сдесь\n",
        "model = RandomForestClassifier()\n",
        "param_grid = {\n",
        "    'max_depth': [5, 7, 10, 20],\n",
        "    'criterion': ['gini', 'log_loss'],\n",
        "    'n_estimators': [100, 200, 300, 700],\n",
        "}\n",
        "gs = GridSearchCV(model, param_grid, cv=3, scoring='f1_macro', verbose=3)\n",
        "gs.fit(X_train, y_train)\n",
        "\n",
        "print(\"Лучшие гиперпараметры:\", gs.best_params_)\n",
        "print(\"Лучшее значение метрики:\", gs.best_score_)\n",
        "\n"
      ],
      "metadata": {
        "id": "I7us9VanXYJS",
        "colab": {
          "base_uri": "https://localhost:8080/"
        },
        "outputId": "82cfb119-9062-45d6-acc1-366b9922eaf8"
      },
      "execution_count": null,
      "outputs": [
        {
          "output_type": "stream",
          "name": "stdout",
          "text": [
            "Fitting 3 folds for each of 32 candidates, totalling 96 fits\n",
            "[CV 1/3] END criterion=gini, max_depth=5, n_estimators=100;, score=0.819 total time=   0.2s\n",
            "[CV 2/3] END criterion=gini, max_depth=5, n_estimators=100;, score=0.813 total time=   0.2s\n",
            "[CV 3/3] END criterion=gini, max_depth=5, n_estimators=100;, score=0.808 total time=   0.3s\n",
            "[CV 1/3] END criterion=gini, max_depth=5, n_estimators=200;, score=0.830 total time=   0.5s\n",
            "[CV 2/3] END criterion=gini, max_depth=5, n_estimators=200;, score=0.824 total time=   0.5s\n",
            "[CV 3/3] END criterion=gini, max_depth=5, n_estimators=200;, score=0.807 total time=   0.5s\n",
            "[CV 1/3] END criterion=gini, max_depth=5, n_estimators=300;, score=0.839 total time=   0.7s\n",
            "[CV 2/3] END criterion=gini, max_depth=5, n_estimators=300;, score=0.821 total time=   0.7s\n",
            "[CV 3/3] END criterion=gini, max_depth=5, n_estimators=300;, score=0.809 total time=   0.7s\n",
            "[CV 1/3] END criterion=gini, max_depth=5, n_estimators=700;, score=0.833 total time=   1.7s\n",
            "[CV 2/3] END criterion=gini, max_depth=5, n_estimators=700;, score=0.819 total time=   1.6s\n",
            "[CV 3/3] END criterion=gini, max_depth=5, n_estimators=700;, score=0.812 total time=   1.7s\n",
            "[CV 1/3] END criterion=gini, max_depth=7, n_estimators=100;, score=0.853 total time=   0.3s\n",
            "[CV 2/3] END criterion=gini, max_depth=7, n_estimators=100;, score=0.838 total time=   0.3s\n",
            "[CV 3/3] END criterion=gini, max_depth=7, n_estimators=100;, score=0.847 total time=   0.4s\n",
            "[CV 1/3] END criterion=gini, max_depth=7, n_estimators=200;, score=0.843 total time=   0.8s\n",
            "[CV 2/3] END criterion=gini, max_depth=7, n_estimators=200;, score=0.845 total time=   0.8s\n",
            "[CV 3/3] END criterion=gini, max_depth=7, n_estimators=200;, score=0.837 total time=   0.8s\n",
            "[CV 1/3] END criterion=gini, max_depth=7, n_estimators=300;, score=0.847 total time=   0.8s\n",
            "[CV 2/3] END criterion=gini, max_depth=7, n_estimators=300;, score=0.850 total time=   0.8s\n",
            "[CV 3/3] END criterion=gini, max_depth=7, n_estimators=300;, score=0.839 total time=   0.8s\n",
            "[CV 1/3] END criterion=gini, max_depth=7, n_estimators=700;, score=0.853 total time=   1.9s\n",
            "[CV 2/3] END criterion=gini, max_depth=7, n_estimators=700;, score=0.850 total time=   1.8s\n",
            "[CV 3/3] END criterion=gini, max_depth=7, n_estimators=700;, score=0.841 total time=   1.8s\n",
            "[CV 1/3] END criterion=gini, max_depth=10, n_estimators=100;, score=0.879 total time=   0.3s\n",
            "[CV 2/3] END criterion=gini, max_depth=10, n_estimators=100;, score=0.858 total time=   0.3s\n",
            "[CV 3/3] END criterion=gini, max_depth=10, n_estimators=100;, score=0.847 total time=   0.3s\n",
            "[CV 1/3] END criterion=gini, max_depth=10, n_estimators=200;, score=0.887 total time=   0.6s\n",
            "[CV 2/3] END criterion=gini, max_depth=10, n_estimators=200;, score=0.865 total time=   0.6s\n",
            "[CV 3/3] END criterion=gini, max_depth=10, n_estimators=200;, score=0.847 total time=   0.9s\n",
            "[CV 1/3] END criterion=gini, max_depth=10, n_estimators=300;, score=0.883 total time=   1.4s\n",
            "[CV 2/3] END criterion=gini, max_depth=10, n_estimators=300;, score=0.836 total time=   1.0s\n",
            "[CV 3/3] END criterion=gini, max_depth=10, n_estimators=300;, score=0.851 total time=   0.9s\n",
            "[CV 1/3] END criterion=gini, max_depth=10, n_estimators=700;, score=0.882 total time=   2.1s\n",
            "[CV 2/3] END criterion=gini, max_depth=10, n_estimators=700;, score=0.864 total time=   2.0s\n",
            "[CV 3/3] END criterion=gini, max_depth=10, n_estimators=700;, score=0.874 total time=   2.1s\n",
            "[CV 1/3] END criterion=gini, max_depth=20, n_estimators=100;, score=0.854 total time=   0.3s\n",
            "[CV 2/3] END criterion=gini, max_depth=20, n_estimators=100;, score=0.863 total time=   0.3s\n",
            "[CV 3/3] END criterion=gini, max_depth=20, n_estimators=100;, score=0.836 total time=   0.3s\n",
            "[CV 1/3] END criterion=gini, max_depth=20, n_estimators=200;, score=0.881 total time=   0.6s\n",
            "[CV 2/3] END criterion=gini, max_depth=20, n_estimators=200;, score=0.860 total time=   0.6s\n",
            "[CV 3/3] END criterion=gini, max_depth=20, n_estimators=200;, score=0.868 total time=   0.9s\n",
            "[CV 1/3] END criterion=gini, max_depth=20, n_estimators=300;, score=0.873 total time=   1.4s\n",
            "[CV 2/3] END criterion=gini, max_depth=20, n_estimators=300;, score=0.855 total time=   1.1s\n",
            "[CV 3/3] END criterion=gini, max_depth=20, n_estimators=300;, score=0.867 total time=   0.9s\n",
            "[CV 1/3] END criterion=gini, max_depth=20, n_estimators=700;, score=0.889 total time=   2.2s\n",
            "[CV 2/3] END criterion=gini, max_depth=20, n_estimators=700;, score=0.866 total time=   2.2s\n",
            "[CV 3/3] END criterion=gini, max_depth=20, n_estimators=700;, score=0.882 total time=   2.2s\n",
            "[CV 1/3] END criterion=log_loss, max_depth=5, n_estimators=100;, score=0.816 total time=   0.3s\n",
            "[CV 2/3] END criterion=log_loss, max_depth=5, n_estimators=100;, score=0.841 total time=   0.3s\n",
            "[CV 3/3] END criterion=log_loss, max_depth=5, n_estimators=100;, score=0.818 total time=   0.3s\n",
            "[CV 1/3] END criterion=log_loss, max_depth=5, n_estimators=200;, score=0.828 total time=   0.5s\n",
            "[CV 2/3] END criterion=log_loss, max_depth=5, n_estimators=200;, score=0.829 total time=   0.5s\n",
            "[CV 3/3] END criterion=log_loss, max_depth=5, n_estimators=200;, score=0.821 total time=   0.8s\n",
            "[CV 1/3] END criterion=log_loss, max_depth=5, n_estimators=300;, score=0.823 total time=   1.3s\n",
            "[CV 2/3] END criterion=log_loss, max_depth=5, n_estimators=300;, score=0.818 total time=   1.0s\n",
            "[CV 3/3] END criterion=log_loss, max_depth=5, n_estimators=300;, score=0.820 total time=   0.8s\n",
            "[CV 1/3] END criterion=log_loss, max_depth=5, n_estimators=700;, score=0.829 total time=   1.8s\n",
            "[CV 2/3] END criterion=log_loss, max_depth=5, n_estimators=700;, score=0.824 total time=   1.8s\n",
            "[CV 3/3] END criterion=log_loss, max_depth=5, n_estimators=700;, score=0.832 total time=   1.8s\n",
            "[CV 1/3] END criterion=log_loss, max_depth=7, n_estimators=100;, score=0.863 total time=   0.3s\n",
            "[CV 2/3] END criterion=log_loss, max_depth=7, n_estimators=100;, score=0.835 total time=   0.3s\n",
            "[CV 3/3] END criterion=log_loss, max_depth=7, n_estimators=100;, score=0.842 total time=   0.3s\n",
            "[CV 1/3] END criterion=log_loss, max_depth=7, n_estimators=200;, score=0.851 total time=   0.6s\n",
            "[CV 2/3] END criterion=log_loss, max_depth=7, n_estimators=200;, score=0.850 total time=   0.6s\n",
            "[CV 3/3] END criterion=log_loss, max_depth=7, n_estimators=200;, score=0.835 total time=   0.6s\n",
            "[CV 1/3] END criterion=log_loss, max_depth=7, n_estimators=300;, score=0.867 total time=   1.1s\n",
            "[CV 2/3] END criterion=log_loss, max_depth=7, n_estimators=300;, score=0.849 total time=   1.4s\n",
            "[CV 3/3] END criterion=log_loss, max_depth=7, n_estimators=300;, score=0.844 total time=   1.2s\n",
            "[CV 1/3] END criterion=log_loss, max_depth=7, n_estimators=700;, score=0.850 total time=   2.1s\n",
            "[CV 2/3] END criterion=log_loss, max_depth=7, n_estimators=700;, score=0.849 total time=   2.1s\n",
            "[CV 3/3] END criterion=log_loss, max_depth=7, n_estimators=700;, score=0.855 total time=   2.2s\n",
            "[CV 1/3] END criterion=log_loss, max_depth=10, n_estimators=100;, score=0.878 total time=   0.4s\n",
            "[CV 2/3] END criterion=log_loss, max_depth=10, n_estimators=100;, score=0.855 total time=   0.4s\n",
            "[CV 3/3] END criterion=log_loss, max_depth=10, n_estimators=100;, score=0.861 total time=   0.4s\n",
            "[CV 1/3] END criterion=log_loss, max_depth=10, n_estimators=200;, score=0.876 total time=   0.7s\n",
            "[CV 2/3] END criterion=log_loss, max_depth=10, n_estimators=200;, score=0.855 total time=   0.7s\n",
            "[CV 3/3] END criterion=log_loss, max_depth=10, n_estimators=200;, score=0.870 total time=   0.8s\n",
            "[CV 1/3] END criterion=log_loss, max_depth=10, n_estimators=300;, score=0.891 total time=   1.6s\n",
            "[CV 2/3] END criterion=log_loss, max_depth=10, n_estimators=300;, score=0.876 total time=   1.4s\n",
            "[CV 3/3] END criterion=log_loss, max_depth=10, n_estimators=300;, score=0.870 total time=   1.1s\n",
            "[CV 1/3] END criterion=log_loss, max_depth=10, n_estimators=700;, score=0.880 total time=   2.4s\n",
            "[CV 2/3] END criterion=log_loss, max_depth=10, n_estimators=700;, score=0.868 total time=   2.4s\n",
            "[CV 3/3] END criterion=log_loss, max_depth=10, n_estimators=700;, score=0.873 total time=   2.4s\n",
            "[CV 1/3] END criterion=log_loss, max_depth=20, n_estimators=100;, score=0.864 total time=   0.4s\n",
            "[CV 2/3] END criterion=log_loss, max_depth=20, n_estimators=100;, score=0.856 total time=   0.4s\n",
            "[CV 3/3] END criterion=log_loss, max_depth=20, n_estimators=100;, score=0.864 total time=   0.4s\n",
            "[CV 1/3] END criterion=log_loss, max_depth=20, n_estimators=200;, score=0.884 total time=   1.1s\n",
            "[CV 2/3] END criterion=log_loss, max_depth=20, n_estimators=200;, score=0.869 total time=   1.1s\n",
            "[CV 3/3] END criterion=log_loss, max_depth=20, n_estimators=200;, score=0.877 total time=   0.9s\n",
            "[CV 1/3] END criterion=log_loss, max_depth=20, n_estimators=300;, score=0.891 total time=   1.1s\n",
            "[CV 2/3] END criterion=log_loss, max_depth=20, n_estimators=300;, score=0.876 total time=   1.1s\n",
            "[CV 3/3] END criterion=log_loss, max_depth=20, n_estimators=300;, score=0.875 total time=   1.1s\n",
            "[CV 1/3] END criterion=log_loss, max_depth=20, n_estimators=700;, score=0.887 total time=   2.5s\n",
            "[CV 2/3] END criterion=log_loss, max_depth=20, n_estimators=700;, score=0.863 total time=   2.5s\n",
            "[CV 3/3] END criterion=log_loss, max_depth=20, n_estimators=700;, score=0.871 total time=   3.2s\n",
            "Лучшие гиперпараметры: {'criterion': 'log_loss', 'max_depth': 20, 'n_estimators': 300}\n",
            "Лучшее значение метрики: 0.8805501087118038\n"
          ]
        }
      ]
    },
    {
      "cell_type": "code",
      "source": [
        "best_model = RandomForestClassifier(**gs.best_params_)\n",
        "_ = best_model.fit(X_train, y_train)\n",
        "y_pred = best_model.predict(X_test)\n",
        "\n",
        "print(f1_score(y_test, y_pred, average='macro'))"
      ],
      "metadata": {
        "colab": {
          "base_uri": "https://localhost:8080/"
        },
        "id": "-bZlb7IeZiPe",
        "outputId": "539fd243-7705-465c-89f1-a94ac4b908bb"
      },
      "execution_count": null,
      "outputs": [
        {
          "output_type": "stream",
          "name": "stdout",
          "text": [
            "0.8625755327397663\n"
          ]
        }
      ]
    }
  ]
}